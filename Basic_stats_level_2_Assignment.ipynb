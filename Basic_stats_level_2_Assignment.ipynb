{
  "nbformat": 4,
  "nbformat_minor": 0,
  "metadata": {
    "colab": {
      "name": "Basic_stats_level-2 Assignment.ipynb",
      "provenance": [],
      "collapsed_sections": []
    },
    "kernelspec": {
      "name": "python3",
      "display_name": "Python 3"
    },
    "language_info": {
      "name": "python"
    }
  },
  "cells": [
    {
      "cell_type": "markdown",
      "source": [
        "#**Question number 1**"
      ],
      "metadata": {
        "id": "tVJqRe-g2ihT"
      }
    },
    {
      "cell_type": "markdown",
      "source": [
        "1.The time required for servicing transmissions is normally distributed with  = 45 minutes and  = 8 minutes. The service manager plans to have work begin on the transmission of a customer’s car 10 minutes after the car is dropped off and the customer is told that the car will be ready within 1 hour from drop-off. What is the probability that the service manager cannot meet his commitment?"
      ],
      "metadata": {
        "id": "NMElA1YM22Q4"
      }
    },
    {
      "cell_type": "code",
      "source": [
        "from scipy import stats"
      ],
      "metadata": {
        "id": "l7kiUhHR2v7F"
      },
      "execution_count": 1,
      "outputs": []
    },
    {
      "cell_type": "code",
      "source": [
        "1-(stats.norm.cdf(50,loc=45,scale=8))"
      ],
      "metadata": {
        "colab": {
          "base_uri": "https://localhost:8080/"
        },
        "id": "jnia1hpX3HDD",
        "outputId": "1d848ca9-39d8-4d7c-a490-48cb7eacc1a1"
      },
      "execution_count": 2,
      "outputs": [
        {
          "output_type": "execute_result",
          "data": {
            "text/plain": [
              "0.26598552904870054"
            ]
          },
          "metadata": {},
          "execution_count": 2
        }
      ]
    },
    {
      "cell_type": "markdown",
      "source": [
        "## **Question number 2**"
      ],
      "metadata": {
        "id": "OwegD-vN3LN_"
      }
    },
    {
      "cell_type": "markdown",
      "source": [
        "2.The current age (in years) of 400 clerical employees at an insurance claims processing center is normally distributed with mean  = 38 and Standard deviation  =6. For each statement below, please specify True/False. If false, briefly explain why."
      ],
      "metadata": {
        "id": "9Oit_dk13Tkh"
      }
    },
    {
      "cell_type": "markdown",
      "source": [
        "ANS : More employees at the processing center are older than 44 than between 38 and 44"
      ],
      "metadata": {
        "id": "sPZzsTpz3XOh"
      }
    },
    {
      "cell_type": "code",
      "source": [
        "#Probability that Age less thane 38\n",
        "Age_to38=(stats.norm.cdf(38,loc=38,scale=6))\n",
        "Age_to38"
      ],
      "metadata": {
        "colab": {
          "base_uri": "https://localhost:8080/"
        },
        "id": "quyrm-kI3Orr",
        "outputId": "a8dda6c6-7a2e-4206-f389-4495e495edca"
      },
      "execution_count": 3,
      "outputs": [
        {
          "output_type": "execute_result",
          "data": {
            "text/plain": [
              "0.5"
            ]
          },
          "metadata": {},
          "execution_count": 3
        }
      ]
    },
    {
      "cell_type": "code",
      "source": [
        "#Probability that Age less thane 44\n",
        "Age_to44=(stats.norm.cdf(44,loc=38,scale=6))\n",
        "Age_to44"
      ],
      "metadata": {
        "colab": {
          "base_uri": "https://localhost:8080/"
        },
        "id": "tCst9bnF3f8z",
        "outputId": "781dd6dc-385c-4081-c9f1-93450eab3700"
      },
      "execution_count": 4,
      "outputs": [
        {
          "output_type": "execute_result",
          "data": {
            "text/plain": [
              "0.8413447460685429"
            ]
          },
          "metadata": {},
          "execution_count": 4
        }
      ]
    },
    {
      "cell_type": "code",
      "source": [
        "#employee age more than 44 is \n",
        "Age_from44=1-(stats.norm.cdf(44,loc=38,scale=6))\n",
        "Age_from44"
      ],
      "metadata": {
        "colab": {
          "base_uri": "https://localhost:8080/"
        },
        "id": "gPq69qQj3mdX",
        "outputId": "b7a7d8fc-e2c4-4fc1-9e61-cd8877ae1298"
      },
      "execution_count": 5,
      "outputs": [
        {
          "output_type": "execute_result",
          "data": {
            "text/plain": [
              "0.15865525393145707"
            ]
          },
          "metadata": {},
          "execution_count": 5
        }
      ]
    },
    {
      "cell_type": "code",
      "source": [
        "#Calculation part\n",
        "age_between_38to44=Age_to44-Age_to38\n",
        "age_between_38to44"
      ],
      "metadata": {
        "colab": {
          "base_uri": "https://localhost:8080/"
        },
        "id": "Nh0d5Zf33psv",
        "outputId": "67a4815e-8ab1-4b7a-ccc7-32169b16cb8c"
      },
      "execution_count": 6,
      "outputs": [
        {
          "output_type": "execute_result",
          "data": {
            "text/plain": [
              "0.3413447460685429"
            ]
          },
          "metadata": {},
          "execution_count": 6
        }
      ]
    },
    {
      "cell_type": "markdown",
      "source": [
        "B. A training program for employees under the age of 30 at the center would be expected to attract about 36 employees."
      ],
      "metadata": {
        "id": "aLc-kXlX3yQe"
      }
    },
    {
      "cell_type": "code",
      "source": [
        "(stats.norm.cdf(36,loc=38,scale=6))"
      ],
      "metadata": {
        "colab": {
          "base_uri": "https://localhost:8080/"
        },
        "id": "W-CjnS-a3swo",
        "outputId": "3500e04e-bc60-4b6d-86ed-44497f2ec6ca"
      },
      "execution_count": 7,
      "outputs": [
        {
          "output_type": "execute_result",
          "data": {
            "text/plain": [
              "0.36944134018176367"
            ]
          },
          "metadata": {},
          "execution_count": 7
        }
      ]
    },
    {
      "cell_type": "markdown",
      "source": [
        "#**Question number 4**"
      ],
      "metadata": {
        "id": "Ft5dY4mY346c"
      }
    },
    {
      "cell_type": "markdown",
      "source": [
        "1.Let X ~ N(100, 202). Find two values, a and b, symmetric about the mean, such that the probability of the random variable taking a value between them is 0.99"
      ],
      "metadata": {
        "id": "LqThlD8P4BbJ"
      }
    },
    {
      "cell_type": "code",
      "source": [
        "stats.norm.ppf(0.995,loc=100,scale=20)"
      ],
      "metadata": {
        "colab": {
          "base_uri": "https://localhost:8080/"
        },
        "id": "yLwGJrSg31HG",
        "outputId": "a048c29f-18be-4028-ef84-b6ef13d65c45"
      },
      "execution_count": 8,
      "outputs": [
        {
          "output_type": "execute_result",
          "data": {
            "text/plain": [
              "151.516586070978"
            ]
          },
          "metadata": {},
          "execution_count": 8
        }
      ]
    },
    {
      "cell_type": "code",
      "source": [
        "stats.norm.ppf(0.005,loc=100,scale=20)"
      ],
      "metadata": {
        "colab": {
          "base_uri": "https://localhost:8080/"
        },
        "id": "QDIk39xs4HCW",
        "outputId": "7320a5a5-1b05-4ea4-faa0-e4f8632117c5"
      },
      "execution_count": 9,
      "outputs": [
        {
          "output_type": "execute_result",
          "data": {
            "text/plain": [
              "48.483413929021985"
            ]
          },
          "metadata": {},
          "execution_count": 9
        }
      ]
    },
    {
      "cell_type": "markdown",
      "source": [
        "#**QUESTION NUMBER 5**"
      ],
      "metadata": {
        "id": "_93pupL54MDJ"
      }
    },
    {
      "cell_type": "markdown",
      "source": [
        "Consider a company that has two different divisions. The annual profits from the two divisions are independent and have distributions Profit1 ~ N(5, 32) and Profit2 ~ N(7, 42) respectively. Both the profits are in million. answer the following question about the total profit of the company in rupees. assume that 1 = Rs. 45"
      ],
      "metadata": {
        "id": "Nl8OgSr44Qmo"
      }
    },
    {
      "cell_type": "code",
      "source": [
        "#A.\tSpecify a Rupee range (centered on the mean) such that it contains 95% probability for the annual profit of the company.\n",
        "uppertail=stats.norm.ppf(0.975, loc=5,scale=3)\n",
        "uppertail"
      ],
      "metadata": {
        "colab": {
          "base_uri": "https://localhost:8080/"
        },
        "id": "ySopiVji4J3K",
        "outputId": "36244a83-a701-4421-aaf2-64d7644bcffe"
      },
      "execution_count": 10,
      "outputs": [
        {
          "output_type": "execute_result",
          "data": {
            "text/plain": [
              "10.879891953620163"
            ]
          },
          "metadata": {},
          "execution_count": 10
        }
      ]
    },
    {
      "cell_type": "code",
      "source": [
        "lowertail=stats.norm.ppf(0.025, loc=5, scale=3)\n",
        "lowertail"
      ],
      "metadata": {
        "colab": {
          "base_uri": "https://localhost:8080/"
        },
        "id": "Xh7KQyYP5GL5",
        "outputId": "ea0500da-4748-4281-f4e0-ead2b183f373"
      },
      "execution_count": 11,
      "outputs": [
        {
          "output_type": "execute_result",
          "data": {
            "text/plain": [
              "-0.879891953620163"
            ]
          },
          "metadata": {},
          "execution_count": 11
        }
      ]
    },
    {
      "cell_type": "code",
      "source": [
        "#data Rupee range (centered on the mean) such that it contains 95% probability for the annual profit of the company.\n",
        "print(\"Rupee range (Centered on the mean with 95% probability) is:\",\"from \",lowertail*45,\" to \",uppertail*45)"
      ],
      "metadata": {
        "colab": {
          "base_uri": "https://localhost:8080/"
        },
        "id": "CcCSG25p5I_r",
        "outputId": "ac090326-4010-4bea-f072-f75f56f3b919"
      },
      "execution_count": 12,
      "outputs": [
        {
          "output_type": "stream",
          "name": "stdout",
          "text": [
            "Rupee range (Centered on the mean with 95% probability) is: from  -39.59513791290733  to  489.5951379129073\n"
          ]
        }
      ]
    },
    {
      "cell_type": "code",
      "source": [
        "#B.\tSpecify the 5th percentile of profit (in Rupees) for the company\n",
        "fifthpercentile=stats.norm.cdf(0.05,loc=5,scale=3)\n",
        "fifthpercentile"
      ],
      "metadata": {
        "colab": {
          "base_uri": "https://localhost:8080/"
        },
        "id": "klwqZg9t5Mp1",
        "outputId": "144f5420-a250-4f7b-bea8-440ffea91cdd"
      },
      "execution_count": 13,
      "outputs": [
        {
          "output_type": "execute_result",
          "data": {
            "text/plain": [
              "0.049471468033648075"
            ]
          },
          "metadata": {},
          "execution_count": 13
        }
      ]
    },
    {
      "cell_type": "code",
      "source": [
        "print(\"5th percentile of profit (in Rupees) for the company is :\", fifthpercentile*45)"
      ],
      "metadata": {
        "colab": {
          "base_uri": "https://localhost:8080/"
        },
        "id": "eor8vs4Y5P4q",
        "outputId": "666f7b36-277e-4a65-f8b8-a2173fcba3b8"
      },
      "execution_count": 14,
      "outputs": [
        {
          "output_type": "stream",
          "name": "stdout",
          "text": [
            "5th percentile of profit (in Rupees) for the company is : 2.2262160615141635\n"
          ]
        }
      ]
    },
    {
      "cell_type": "markdown",
      "source": [
        "#**Set 4 Question number 3**"
      ],
      "metadata": {
        "id": "2cy4AoPw5UOT"
      }
    },
    {
      "cell_type": "markdown",
      "source": [
        "1.Auditors at a small community bank randomly sample 100 withdrawal transactions made during the week at an ATM machine located near the bank’s main branch. Over the past 2 years, the average withdrawal amount has been 50dollar with a standard deviation of 40 dollar. Since audit investigations are typically expensive, the auditors decide to not initiate further investigations if the mean transaction amount of the sample is between 45 and 55 dollar. What is the probability that in any given week, there will be an investigation?"
      ],
      "metadata": {
        "id": "g9DJxyjS5cvp"
      }
    },
    {
      "cell_type": "markdown",
      "source": [
        "For No investigation P(45<X<55)"
      ],
      "metadata": {
        "id": "IyWaeuKB5kag"
      }
    },
    {
      "cell_type": "markdown",
      "source": [
        "For Investigation 1-P(45<X<55)"
      ],
      "metadata": {
        "id": "lkJfqR005o7-"
      }
    },
    {
      "cell_type": "code",
      "source": [
        "# find z-scores at x=45; z=(s_mean-P_mean)/(p_SD/sqrt(n))\n",
        "z=(45-50)/(40/100**0.5)\n",
        "z"
      ],
      "metadata": {
        "colab": {
          "base_uri": "https://localhost:8080/"
        },
        "id": "tzZxjtzB5THC",
        "outputId": "018c33e5-6a8d-4245-c544-00c78626dc80"
      },
      "execution_count": 15,
      "outputs": [
        {
          "output_type": "execute_result",
          "data": {
            "text/plain": [
              "-1.25"
            ]
          },
          "metadata": {},
          "execution_count": 15
        }
      ]
    },
    {
      "cell_type": "code",
      "source": [
        "# find z-scores at x=55; z=(s_mean-P_mean)/(p_SD/sqrt(n))\n",
        "z=(55-50)/(40/100**0.5)\n",
        "z"
      ],
      "metadata": {
        "colab": {
          "base_uri": "https://localhost:8080/"
        },
        "id": "vrvBzDc95urW",
        "outputId": "f3a1b852-0b82-4c4b-8488-9da95089a41c"
      },
      "execution_count": 16,
      "outputs": [
        {
          "output_type": "execute_result",
          "data": {
            "text/plain": [
              "1.25"
            ]
          },
          "metadata": {},
          "execution_count": 16
        }
      ]
    },
    {
      "cell_type": "code",
      "source": [
        "answer=0.5497382248301129-0.4502617751698871\n",
        "answer"
      ],
      "metadata": {
        "colab": {
          "base_uri": "https://localhost:8080/"
        },
        "id": "3Oo9R8j65xdv",
        "outputId": "15b6006a-6964-417b-933a-82689f3d6538"
      },
      "execution_count": 17,
      "outputs": [
        {
          "output_type": "execute_result",
          "data": {
            "text/plain": [
              "0.09947644966022584"
            ]
          },
          "metadata": {},
          "execution_count": 17
        }
      ]
    },
    {
      "cell_type": "code",
      "source": [
        "# For No investigation P(45<X<55) using z_scores = P(X<50)-P(X<45)\n",
        "stats.norm.cdf(1.25)-stats.norm.cdf(-1.25)"
      ],
      "metadata": {
        "colab": {
          "base_uri": "https://localhost:8080/"
        },
        "id": "kTTezp3v5z_2",
        "outputId": "003345b3-73c0-4ede-8e26-6d7f28750ef5"
      },
      "execution_count": 18,
      "outputs": [
        {
          "output_type": "execute_result",
          "data": {
            "text/plain": [
              "0.7887004526662893"
            ]
          },
          "metadata": {},
          "execution_count": 18
        }
      ]
    },
    {
      "cell_type": "code",
      "source": [
        "stats.norm.interval(0.7887,loc=50,scale=40/(100**0.5))"
      ],
      "metadata": {
        "colab": {
          "base_uri": "https://localhost:8080/"
        },
        "id": "rsJT20kC53WZ",
        "outputId": "a71028c7-da17-4b3e-8a27-11a963c43e7c"
      },
      "execution_count": 19,
      "outputs": [
        {
          "output_type": "execute_result",
          "data": {
            "text/plain": [
              "(45.00000495667348, 54.99999504332652)"
            ]
          },
          "metadata": {},
          "execution_count": 19
        }
      ]
    },
    {
      "cell_type": "code",
      "source": [
        "# For Investigation 1-P(45<X<55)\n",
        "1-0.7887"
      ],
      "metadata": {
        "colab": {
          "base_uri": "https://localhost:8080/"
        },
        "id": "69Et9Ts-554A",
        "outputId": "6f035ef8-dedb-4990-d02f-a9d7585d45f9"
      },
      "execution_count": 20,
      "outputs": [
        {
          "output_type": "execute_result",
          "data": {
            "text/plain": [
              "0.21130000000000004"
            ]
          },
          "metadata": {},
          "execution_count": 20
        }
      ]
    },
    {
      "cell_type": "code",
      "source": [
        ""
      ],
      "metadata": {
        "id": "5lSFJ4_n58vX"
      },
      "execution_count": null,
      "outputs": []
    }
  ]
}